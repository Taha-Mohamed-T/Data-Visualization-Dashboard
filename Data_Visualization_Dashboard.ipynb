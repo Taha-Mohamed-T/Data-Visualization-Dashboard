{
 "cells": [
  {
   "cell_type": "code",
   "execution_count": null,
   "id": "c7cfa17c",
   "metadata": {},
   "outputs": [],
   "source": [
    "import seaborn as sns\n",
    "import matplotlib.pyplot as plt\n",
    "import pandas as pd\n",
    "\n",
    "# Load dataset (tips dataset)\n",
    "data = sns.load_dataset('tips')\n",
    "\n",
    "# Plot 1: Barplot\n",
    "sns.barplot(x='day', y='total_bill', data=data)\n",
    "plt.show()\n",
    "\n",
    "# Plot 2: Scatterplot\n",
    "sns.scatterplot(x='total_bill', y='tip', hue='day', data=data)\n",
    "plt.show()\n",
    "\n",
    "# Plot 3: Boxplot\n",
    "sns.boxplot(x='day', y='total_bill', data=data)\n",
    "plt.show()"
   ]
  }
 ],
 "metadata": {},
 "nbformat": 4,
 "nbformat_minor": 5
}
